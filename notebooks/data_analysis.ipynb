{
 "cells": [
  {
   "cell_type": "code",
   "execution_count": 5,
   "metadata": {},
   "outputs": [],
   "source": [
    "from collections import defaultdict, Counter\n",
    "from tqdm import tqdm"
   ]
  },
  {
   "cell_type": "code",
   "execution_count": 10,
   "metadata": {},
   "outputs": [],
   "source": [
    "tag_analysis = Counter()\n",
    "with open(\"../data/mSystemEntity/train/vi.txt\") as f:\n",
    "    for line in f:\n",
    "        if not line.strip():\n",
    "            continue\n",
    "        tag = line.strip().split()[-1]\n",
    "\n",
    "        tag_analysis.update([tag])"
   ]
  },
  {
   "cell_type": "code",
   "execution_count": 11,
   "metadata": {},
   "outputs": [
    {
     "data": {
      "text/plain": [
       "Counter({'O': 8470203,\n",
       "         'B-ORG': 109060,\n",
       "         'I-ORG': 138113,\n",
       "         'B-LOC': 139770,\n",
       "         'B-PER': 42583,\n",
       "         'I-PER': 30981,\n",
       "         'I-LOC': 72679})"
      ]
     },
     "execution_count": 11,
     "metadata": {},
     "output_type": "execute_result"
    }
   ],
   "source": [
    "tag_analysis"
   ]
  },
  {
   "cell_type": "code",
   "execution_count": 31,
   "metadata": {},
   "outputs": [],
   "source": [
    "def check_entity_type_sample(sample):\n",
    "    unique_tags = set([tag for tag in sample[\"tags\"] if tag.startswith(\"B\")])\n",
    "    if len(unique_tags) == 1:\n",
    "        return list(unique_tags)[0].split(\"-\")[-1]\n",
    "    elif not unique_tags:\n",
    "        return \"O\"\n",
    "    return \"GENERAL\"\n",
    "\n",
    "def balance_data(data_file):\n",
    "    sample_by_type = defaultdict(list)\n",
    "    with open(data_file) as f:\n",
    "        sample = {\"words\": [], \"tags\": []}\n",
    "        for line in f:\n",
    "            parts = line.strip().split()\n",
    "            if not parts:\n",
    "                sample_type = check_entity_type_sample(sample)\n",
    "                sample_by_type[sample_type].append(sample)\n",
    "                sample = {\"words\": [], \"tags\": []}\n",
    "                continue\n",
    "            sample[\"words\"].append(parts[0])\n",
    "            sample[\"tags\"].append(parts[-1])\n",
    "    \n",
    "    min_num_sample = len(sample_by_type[\"O\"])\n",
    "    print(\"\\n## BEFORE ##\\n\")\n",
    "    for key, samples in sample_by_type.items():\n",
    "        print(key, len(samples))\n",
    "        if key in [\"O\", \"GENERAL\"]:\n",
    "            continue\n",
    "        if len(samples) < min_num_sample:\n",
    "            min_num_sample = len(samples)\n",
    "    print(\"\\n## AFTER ##\\n\")\n",
    "    total_samples = []\n",
    "    for key, samples in sample_by_type.items():\n",
    "        if key in [\"O\", \"GENERAL\"]:\n",
    "            total_samples.extend(samples[:int(min_num_sample*2.4)])\n",
    "            print(key, len(samples[:int(min_num_sample*2.4)]))\n",
    "            continue\n",
    "        if len(samples) > min_num_sample*1.2:\n",
    "            total_samples.extend(samples[:int(min_num_sample*1.2)])\n",
    "            print(key, len(samples[:int(min_num_sample*1.2)]))\n",
    "        else:\n",
    "            total_samples.extend(samples)\n",
    "            print(key, len(samples))\n",
    "    \n",
    "    return total_samples"
   ]
  },
  {
   "cell_type": "code",
   "execution_count": 32,
   "metadata": {},
   "outputs": [
    {
     "name": "stdout",
     "output_type": "stream",
     "text": [
      "\n",
      "## BEFORE ##\n",
      "\n",
      "O 1262165\n",
      "ORG 97301\n",
      "LOC 121031\n",
      "PER 38583\n",
      "GENERAL 2835\n",
      "\n",
      "## AFTER ##\n",
      "\n",
      "O 92599\n",
      "ORG 46299\n",
      "LOC 46299\n",
      "PER 38583\n",
      "GENERAL 2835\n"
     ]
    }
   ],
   "source": [
    "samples = balance_data(\"../data/mSystemEntity/train/ja.txt\")"
   ]
  },
  {
   "cell_type": "code",
   "execution_count": null,
   "metadata": {},
   "outputs": [],
   "source": []
  }
 ],
 "metadata": {
  "interpreter": {
   "hash": "af8b634eb6ee2beff9dea1f95fac5ae0278363f238264cab76937a661c169ae1"
  },
  "kernelspec": {
   "display_name": "Python 3.6.12 ('py36')",
   "language": "python",
   "name": "python3"
  },
  "language_info": {
   "codemirror_mode": {
    "name": "ipython",
    "version": 3
   },
   "file_extension": ".py",
   "mimetype": "text/x-python",
   "name": "python",
   "nbconvert_exporter": "python",
   "pygments_lexer": "ipython3",
   "version": "3.6.12"
  },
  "orig_nbformat": 4
 },
 "nbformat": 4,
 "nbformat_minor": 2
}
